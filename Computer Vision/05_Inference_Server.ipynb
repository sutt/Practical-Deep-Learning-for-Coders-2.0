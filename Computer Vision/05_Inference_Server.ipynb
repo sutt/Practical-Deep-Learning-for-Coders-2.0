{
 "cells": [
  {
   "cell_type": "code",
   "execution_count": 0,
   "metadata": {
    "colab": {},
    "colab_type": "code",
    "id": "JisHBvhVNUzu"
   },
   "outputs": [],
   "source": [
    "#default_exp deployment"
   ]
  },
  {
   "cell_type": "markdown",
   "metadata": {
    "colab_type": "text",
    "id": "CvAHuMB5LXfZ"
   },
   "source": [
    "# Server Implementation\n",
    "\n",
    "Let's now take what we had before and run inference based on a list of filenames. We'll make a quick script to get the ball rolling for how we want everything to do using `nbdev` again"
   ]
  },
  {
   "cell_type": "code",
   "execution_count": 0,
   "metadata": {
    "colab": {},
    "colab_type": "code",
    "id": "apSJf-DQA7Qg"
   },
   "outputs": [],
   "source": [
    "#hide\n",
    "#Run once per session\n",
    "import os\n",
    "!pip install -q feather-format kornia pyarrow wandb nbdev fastprogress fastai2 fastcore --upgrade \n",
    "!pip install torch==1.3.1\n",
    "!pip install torchvision==0.4.2\n",
    "!pip install Pillow==6.2.1 --upgrade\n",
    "os._exit(00)"
   ]
  },
  {
   "cell_type": "code",
   "execution_count": 0,
   "metadata": {
    "colab": {},
    "colab_type": "code",
    "id": "MApJ2nLzNQW8"
   },
   "outputs": [],
   "source": [
    "#hide\n",
    "from nbdev.showdoc import *"
   ]
  },
  {
   "cell_type": "markdown",
   "metadata": {
    "colab_type": "text",
    "id": "_nOK-lvHNM0q"
   },
   "source": [
    "We'll want the libraries we've used"
   ]
  },
  {
   "cell_type": "code",
   "execution_count": 0,
   "metadata": {
    "colab": {},
    "colab_type": "code",
    "id": "U9Dpl8xQHQFp"
   },
   "outputs": [],
   "source": [
    "#export\n",
    "from fastai2.vision.all import *\n",
    "from fastai2.basics import *"
   ]
  },
  {
   "cell_type": "markdown",
   "metadata": {
    "colab_type": "text",
    "id": "GLXtXePwN0l6"
   },
   "source": [
    "Including our new `style_transfer.py` file"
   ]
  },
  {
   "cell_type": "code",
   "execution_count": 0,
   "metadata": {
    "colab": {},
    "colab_type": "code",
    "id": "PhSk005RN3vy"
   },
   "outputs": [],
   "source": [
    "#export\n",
    "from style_transfer import *"
   ]
  },
  {
   "cell_type": "markdown",
   "metadata": {
    "colab_type": "text",
    "id": "J420YY-TN6Cy"
   },
   "source": [
    "Let's grab our original style image"
   ]
  },
  {
   "cell_type": "code",
   "execution_count": 0,
   "metadata": {
    "colab": {},
    "colab_type": "code",
    "id": "kLOWaG5DjJNP"
   },
   "outputs": [],
   "source": [
    "learn = load_learner('myModel', cpu=False)"
   ]
  },
  {
   "cell_type": "markdown",
   "metadata": {
    "colab_type": "text",
    "id": "y-FnBcIOkgIk"
   },
   "source": [
    "And now we can make and prepare our dataloader with a filename!"
   ]
  },
  {
   "cell_type": "code",
   "execution_count": 0,
   "metadata": {
    "colab": {},
    "colab_type": "code",
    "id": "X5UdTww6kA6O"
   },
   "outputs": [],
   "source": [
    "dset = Datasets('cat.jpg', tfms=[PILImage.create])\n",
    "dl = dset.dataloaders(after_item=[ToTensor()], after_batch=[IntToFloatTensor(), Normalize.from_stats(*imagenet_stats)], bs=1)"
   ]
  },
  {
   "cell_type": "code",
   "execution_count": 0,
   "metadata": {
    "colab": {},
    "colab_type": "code",
    "id": "PQSPUZVekEbu"
   },
   "outputs": [],
   "source": [
    "t_im = dl.one_batch()[0]"
   ]
  },
  {
   "cell_type": "markdown",
   "metadata": {
    "colab_type": "text",
    "id": "wKLECBr1kksf"
   },
   "source": [
    "And get our raw output. "
   ]
  },
  {
   "cell_type": "code",
   "execution_count": 0,
   "metadata": {
    "colab": {},
    "colab_type": "code",
    "id": "0XkjV7w8kGnk"
   },
   "outputs": [],
   "source": [
    "with torch.no_grad():\n",
    "  res = learn.model(t_im)"
   ]
  },
  {
   "cell_type": "markdown",
   "metadata": {
    "colab_type": "text",
    "id": "JG0ozHTbkmCJ"
   },
   "source": [
    "Let's wrap this into a function"
   ]
  },
  {
   "cell_type": "code",
   "execution_count": 0,
   "metadata": {
    "colab": {},
    "colab_type": "code",
    "id": "NSdvp2fQkn8C"
   },
   "outputs": [],
   "source": [
    "#export\n",
    "def get_learner(fn, cpu=False):\n",
    "  return load_learner(fn, cpu=cpu)"
   ]
  },
  {
   "cell_type": "code",
   "execution_count": 0,
   "metadata": {
    "colab": {},
    "colab_type": "code",
    "id": "d1lBQQ9-kyGW"
   },
   "outputs": [],
   "source": [
    "#export\n",
    "def make_datasets(learn, fns, bs=1):\n",
    "  cuda = next(learn.model.parameters()).is_cuda\n",
    "  dset = Datasets(fns, tfms=[PILImage.create])\n",
    "  if cuda: \n",
    "    after_batch = [IntToFloatTensor(), Normalize.from_stats(*imagenet_stats)] \n",
    "    dl = dset.dataloaders(after_item=[ToTensor()], after_batch=after_batch, bs=1)\n",
    "  else: \n",
    "    after_batch = [Normalize.from_stats(*imagenet_stats, cuda=False)]\n",
    "    dl = dset.dataloaders(after_item=[ToTensor()], after_batch=after_batch, bs=1, device='cpu')\n",
    "  return dl"
   ]
  },
  {
   "cell_type": "code",
   "execution_count": 0,
   "metadata": {
    "colab": {},
    "colab_type": "code",
    "id": "abiGY-2pK7Is"
   },
   "outputs": [],
   "source": [
    "#export\n",
    "from torchvision.utils import save_image"
   ]
  },
  {
   "cell_type": "markdown",
   "metadata": {
    "colab_type": "text",
    "id": "3inkYqDCQv82"
   },
   "source": [
    "We can write a quick `save_im` function to save all our outputed tensors to images"
   ]
  },
  {
   "cell_type": "code",
   "execution_count": 0,
   "metadata": {
    "colab": {},
    "colab_type": "code",
    "id": "ODgjWcfHQa6V"
   },
   "outputs": [],
   "source": [
    "#export\n",
    "def save_im(imgs:list, path):\n",
    "  \"Save a n*c*w*h `Tensor` into seperate images\"\n",
    "  [save_image(im, f'{path}/{i}.png') for i, im in enumerate(imgs)]"
   ]
  },
  {
   "cell_type": "markdown",
   "metadata": {
    "colab_type": "text",
    "id": "s6ZQCmGUQ0Zr"
   },
   "source": [
    "Now let's put it all together"
   ]
  },
  {
   "cell_type": "code",
   "execution_count": 0,
   "metadata": {
    "colab": {},
    "colab_type": "code",
    "id": "mM-KXOtMPwFE"
   },
   "outputs": [],
   "source": [
    "#export\n",
    "def inference(pkl_name, fnames:list, path:Path, cpu:bool=True):\n",
    "  \"Grab inference on a model, filenames, and a path to save it to\"\n",
    "  path = path/'results'\n",
    "  path.mkdir(parents=True, exist_ok=True)\n",
    "  learn = get_learner(pkl_name, cpu)\n",
    "  if len(fnames) > 1:\n",
    "    dls = []\n",
    "    for fname in fnames:\n",
    "      dls.append(make_datasets(learn, fnames, 1))\n",
    "  else:\n",
    "    dls = [make_datasets(learn, fnames, 1)]\n",
    "  res = []\n",
    "  for b in dls:\n",
    "    t_im = b.one_batch()[0]\n",
    "    with torch.no_grad():\n",
    "      out = learn.model(t_im)\n",
    "    res.append(out)\n",
    "  save_im(res, path)"
   ]
  },
  {
   "cell_type": "markdown",
   "metadata": {
    "colab_type": "text",
    "id": "r8vYeOHRRA48"
   },
   "source": [
    "And try it out!"
   ]
  },
  {
   "cell_type": "code",
   "execution_count": 0,
   "metadata": {
    "colab": {},
    "colab_type": "code",
    "id": "vPVmJs16nY7S"
   },
   "outputs": [],
   "source": [
    "fnames = ['cat.jpg'] * 5"
   ]
  },
  {
   "cell_type": "code",
   "execution_count": 0,
   "metadata": {
    "colab": {},
    "colab_type": "code",
    "id": "dfc3ZdseKjn0"
   },
   "outputs": [],
   "source": [
    "inference('myModel', fnames, path=Path(''))"
   ]
  },
  {
   "cell_type": "markdown",
   "metadata": {
    "colab_type": "text",
    "id": "9n0kvdR0Sa6h"
   },
   "source": [
    "Lastly let's make a `.py` file again to run it off of"
   ]
  },
  {
   "cell_type": "code",
   "execution_count": 0,
   "metadata": {
    "colab": {},
    "colab_type": "code",
    "id": "bsp5kNXcRFSN"
   },
   "outputs": [],
   "source": [
    "#hide\n",
    "from nbdev.imports import *\n",
    "from nbdev.export import reset_nbdev_module, notebook2script\n",
    "\n",
    "create_config('myLib', user='muellerzr', path='.', cfg_name='settings.ini')\n",
    "cfg = Config(cfg_name='settings.ini')"
   ]
  },
  {
   "cell_type": "code",
   "execution_count": 0,
   "metadata": {
    "colab": {},
    "colab_type": "code",
    "id": "E2ykuLxiSgsY"
   },
   "outputs": [],
   "source": [
    "#hide\n",
    "reset_nbdev_module()"
   ]
  },
  {
   "cell_type": "code",
   "execution_count": 0,
   "metadata": {
    "colab": {
     "base_uri": "https://localhost:8080/",
     "height": 34
    },
    "colab_type": "code",
    "id": "rioWZFfBSibJ",
    "outputId": "1e44ac22-38a7-4838-9e12-46511a31d177"
   },
   "outputs": [
    {
     "name": "stdout",
     "output_type": "stream",
     "text": [
      "Converted 05_Inference_Server.ipynb.\n"
     ]
    }
   ],
   "source": [
    "#hide\n",
    "from nbdev.export import notebook2script\n",
    "notebook2script('05_Inference_Server.ipynb')"
   ]
  },
  {
   "cell_type": "markdown",
   "metadata": {
    "colab_type": "text",
    "id": "3Mswv2kCSuYz"
   },
   "source": [
    "And we're done!"
   ]
  }
 ],
 "metadata": {
  "accelerator": "GPU",
  "colab": {
   "collapsed_sections": [],
   "name": "05_Inference_Server.ipynb",
   "provenance": []
  },
  "kernelspec": {
   "display_name": "Python 3",
   "language": "python",
   "name": "python3"
  },
  "language_info": {
   "codemirror_mode": {
    "name": "ipython",
    "version": 3
   },
   "file_extension": ".py",
   "mimetype": "text/x-python",
   "name": "python",
   "nbconvert_exporter": "python",
   "pygments_lexer": "ipython3",
   "version": "3.7.6"
  }
 },
 "nbformat": 4,
 "nbformat_minor": 1
}
